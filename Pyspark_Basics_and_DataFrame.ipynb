{
 "cells": [
  {
   "cell_type": "markdown",
   "id": "a21d5133",
   "metadata": {},
   "source": [
    "#### Installing PySpark and findSpark"
   ]
  },
  {
   "cell_type": "code",
   "execution_count": 1,
   "id": "ecd09433",
   "metadata": {},
   "outputs": [
    {
     "name": "stdout",
     "output_type": "stream",
     "text": [
      "Requirement already satisfied: pyspark in c:\\users\\sahil kale\\anaconda3\\lib\\site-packages (3.5.1)\n",
      "Requirement already satisfied: py4j==0.10.9.7 in c:\\users\\sahil kale\\anaconda3\\lib\\site-packages (from pyspark) (0.10.9.7)\n"
     ]
    }
   ],
   "source": [
    "! pip install pyspark"
   ]
  },
  {
   "cell_type": "code",
   "execution_count": 2,
   "id": "dc5fac2a",
   "metadata": {},
   "outputs": [
    {
     "name": "stdout",
     "output_type": "stream",
     "text": [
      "Requirement already satisfied: findspark in c:\\users\\sahil kale\\anaconda3\\lib\\site-packages (2.0.1)\n",
      "Requirement already satisfied: pyspark in c:\\users\\sahil kale\\anaconda3\\lib\\site-packages (3.5.1)\n",
      "Requirement already satisfied: py4j==0.10.9.7 in c:\\users\\sahil kale\\anaconda3\\lib\\site-packages (from pyspark) (0.10.9.7)\n"
     ]
    }
   ],
   "source": [
    "# mandatory step so that jupyter notebook finds your pyspark\n",
    "! pip install findspark pyspark"
   ]
  },
  {
   "cell_type": "code",
   "execution_count": 3,
   "id": "c09427ed",
   "metadata": {},
   "outputs": [],
   "source": [
    "import os\n",
    "os.chdir('F:\\CDAC\\Big Data\\pyspark\\Titanic')"
   ]
  },
  {
   "cell_type": "code",
   "execution_count": 4,
   "id": "50dee572",
   "metadata": {},
   "outputs": [],
   "source": [
    "import pyspark\n",
    "\n",
    "# mandatory step\n",
    "import findspark\n",
    "findspark.init()"
   ]
  },
  {
   "cell_type": "code",
   "execution_count": 5,
   "id": "195806b3",
   "metadata": {},
   "outputs": [],
   "source": [
    "# Importing SparkSession - entry point for spark\n",
    "\n",
    "from pyspark.sql import SparkSession"
   ]
  },
  {
   "cell_type": "code",
   "execution_count": 6,
   "id": "b4b1cfff",
   "metadata": {},
   "outputs": [],
   "source": [
    "spark = SparkSession.builder.appName('Understanding Spark Session').master('local[4]').getOrCreate()"
   ]
  },
  {
   "cell_type": "code",
   "execution_count": 7,
   "id": "be683c5b",
   "metadata": {},
   "outputs": [
    {
     "data": {
      "text/html": [
       "\n",
       "            <div>\n",
       "                <p><b>SparkSession - in-memory</b></p>\n",
       "                \n",
       "        <div>\n",
       "            <p><b>SparkContext</b></p>\n",
       "\n",
       "            <p><a href=\"http://SAHIL:4040\">Spark UI</a></p>\n",
       "\n",
       "            <dl>\n",
       "              <dt>Version</dt>\n",
       "                <dd><code>v3.5.1</code></dd>\n",
       "              <dt>Master</dt>\n",
       "                <dd><code>local[4]</code></dd>\n",
       "              <dt>AppName</dt>\n",
       "                <dd><code>Understanding Spark Session</code></dd>\n",
       "            </dl>\n",
       "        </div>\n",
       "        \n",
       "            </div>\n",
       "        "
      ],
      "text/plain": [
       "<pyspark.sql.session.SparkSession at 0x24ae3a06350>"
      ]
     },
     "execution_count": 7,
     "metadata": {},
     "output_type": "execute_result"
    }
   ],
   "source": [
    "spark"
   ]
  },
  {
   "cell_type": "code",
   "execution_count": 8,
   "id": "88fab14f",
   "metadata": {},
   "outputs": [],
   "source": [
    "sc = spark.sparkContext"
   ]
  },
  {
   "cell_type": "markdown",
   "id": "71d1ebb5",
   "metadata": {},
   "source": [
    "# DATAFRAME"
   ]
  },
  {
   "cell_type": "markdown",
   "id": "9e8f7ce7",
   "metadata": {},
   "source": [
    "### Creating DataFrame from RDD"
   ]
  },
  {
   "cell_type": "code",
   "execution_count": 9,
   "id": "ef2ed3f2",
   "metadata": {},
   "outputs": [],
   "source": [
    "iphones_rdd = sc.parallelize([\n",
    "                                (\"12\", 2020, 2, 50000),\n",
    "                                (\"13\", 2021, 2, 60000),\n",
    "                                (\"14 pro\", 2022, 3, 100000),\n",
    "                                (\"15 pro max\", 2023, 3, 150000)\n",
    "                            ])"
   ]
  },
  {
   "cell_type": "code",
   "execution_count": 10,
   "id": "fdb98304",
   "metadata": {},
   "outputs": [],
   "source": [
    "col_names = ['Model', 'Year of Manufacturing', 'No. of Camera', 'Price']"
   ]
  },
  {
   "cell_type": "code",
   "execution_count": 11,
   "id": "2c2dad08",
   "metadata": {},
   "outputs": [
    {
     "data": {
      "text/plain": [
       "pyspark.sql.dataframe.DataFrame"
      ]
     },
     "execution_count": 11,
     "metadata": {},
     "output_type": "execute_result"
    }
   ],
   "source": [
    "iphones_df = spark.createDataFrame(iphones_rdd, schema = col_names)\n",
    "type(iphones_df)"
   ]
  },
  {
   "cell_type": "code",
   "execution_count": null,
   "id": "54ceebf8",
   "metadata": {},
   "outputs": [],
   "source": []
  },
  {
   "cell_type": "markdown",
   "id": "94a57105",
   "metadata": {},
   "source": [
    "### Creating DataFrame from a file(csv, json, txt, etc...)"
   ]
  },
  {
   "cell_type": "code",
   "execution_count": 12,
   "id": "52ea26b9",
   "metadata": {},
   "outputs": [
    {
     "data": {
      "text/plain": [
       "DataFrame[PassengerId: int, Survived: int, Pclass: int, Name: string, Sex: string, Age: double, SibSp: int, Parch: int, Ticket: string, Fare: double, Cabin: string, Embarked: string]"
      ]
     },
     "execution_count": 12,
     "metadata": {},
     "output_type": "execute_result"
    }
   ],
   "source": [
    "# .read have many more functionalities for other types of files.\n",
    "# for more refer documentation\n",
    "\n",
    "# inferSchema - tries to automatically determine column of one type (i.e. if all nunm entries in col1 then make it numeric)\n",
    "\n",
    "titanic = spark.read.csv(\"titanic_train.csv\", header = True, inferSchema = True)\n",
    "titanic"
   ]
  },
  {
   "cell_type": "code",
   "execution_count": 13,
   "id": "98476470",
   "metadata": {},
   "outputs": [
    {
     "name": "stdout",
     "output_type": "stream",
     "text": [
      "+-----------+--------+------+--------------------+------+----+-----+-----+----------------+-------+-----+--------+\n",
      "|PassengerId|Survived|Pclass|                Name|   Sex| Age|SibSp|Parch|          Ticket|   Fare|Cabin|Embarked|\n",
      "+-----------+--------+------+--------------------+------+----+-----+-----+----------------+-------+-----+--------+\n",
      "|          1|       0|     3|Braund, Mr. Owen ...|  male|22.0|    1|    0|       A/5 21171|   7.25| NULL|       S|\n",
      "|          2|       1|     1|Cumings, Mrs. Joh...|female|38.0|    1|    0|        PC 17599|71.2833|  C85|       C|\n",
      "|          3|       1|     3|Heikkinen, Miss. ...|female|26.0|    0|    0|STON/O2. 3101282|  7.925| NULL|       S|\n",
      "|          4|       1|     1|Futrelle, Mrs. Ja...|female|35.0|    1|    0|          113803|   53.1| C123|       S|\n",
      "|          5|       0|     3|Allen, Mr. Willia...|  male|35.0|    0|    0|          373450|   8.05| NULL|       S|\n",
      "|          6|       0|     3|    Moran, Mr. James|  male|NULL|    0|    0|          330877| 8.4583| NULL|       Q|\n",
      "|          7|       0|     1|McCarthy, Mr. Tim...|  male|54.0|    0|    0|           17463|51.8625|  E46|       S|\n",
      "|          8|       0|     3|Palsson, Master. ...|  male| 2.0|    3|    1|          349909| 21.075| NULL|       S|\n",
      "|          9|       1|     3|Johnson, Mrs. Osc...|female|27.0|    0|    2|          347742|11.1333| NULL|       S|\n",
      "|         10|       1|     2|Nasser, Mrs. Nich...|female|14.0|    1|    0|          237736|30.0708| NULL|       C|\n",
      "|         11|       1|     3|Sandstrom, Miss. ...|female| 4.0|    1|    1|         PP 9549|   16.7|   G6|       S|\n",
      "|         12|       1|     1|Bonnell, Miss. El...|female|58.0|    0|    0|          113783|  26.55| C103|       S|\n",
      "|         13|       0|     3|Saundercock, Mr. ...|  male|20.0|    0|    0|       A/5. 2151|   8.05| NULL|       S|\n",
      "|         14|       0|     3|Andersson, Mr. An...|  male|39.0|    1|    5|          347082| 31.275| NULL|       S|\n",
      "|         15|       0|     3|Vestrom, Miss. Hu...|female|14.0|    0|    0|          350406| 7.8542| NULL|       S|\n",
      "|         16|       1|     2|Hewlett, Mrs. (Ma...|female|55.0|    0|    0|          248706|   16.0| NULL|       S|\n",
      "|         17|       0|     3|Rice, Master. Eugene|  male| 2.0|    4|    1|          382652| 29.125| NULL|       Q|\n",
      "|         18|       1|     2|Williams, Mr. Cha...|  male|NULL|    0|    0|          244373|   13.0| NULL|       S|\n",
      "|         19|       0|     3|Vander Planke, Mr...|female|31.0|    1|    0|          345763|   18.0| NULL|       S|\n",
      "|         20|       1|     3|Masselmani, Mrs. ...|female|NULL|    0|    0|            2649|  7.225| NULL|       C|\n",
      "+-----------+--------+------+--------------------+------+----+-----+-----+----------------+-------+-----+--------+\n",
      "only showing top 20 rows\n",
      "\n"
     ]
    }
   ],
   "source": [
    "titanic.show()"
   ]
  },
  {
   "cell_type": "markdown",
   "id": "3aaf8c86",
   "metadata": {},
   "source": [
    "## TRANFORMATIONS AND ACTIONS ON DATAFRAME"
   ]
  },
  {
   "cell_type": "markdown",
   "id": "68a98d71",
   "metadata": {},
   "source": [
    "### SELECT - Transformation"
   ]
  },
  {
   "cell_type": "code",
   "execution_count": 14,
   "id": "c990fc3f",
   "metadata": {},
   "outputs": [],
   "source": [
    "# select any one column from the DataFrame\n",
    "\n",
    "passengers = titanic.select('Name')"
   ]
  },
  {
   "cell_type": "markdown",
   "id": "834eddff",
   "metadata": {},
   "source": [
    "### SHOW - Action"
   ]
  },
  {
   "cell_type": "code",
   "execution_count": 15,
   "id": "ea26d0c0",
   "metadata": {},
   "outputs": [
    {
     "name": "stdout",
     "output_type": "stream",
     "text": [
      "+--------------------+\n",
      "|                Name|\n",
      "+--------------------+\n",
      "|Braund, Mr. Owen ...|\n",
      "|Cumings, Mrs. Joh...|\n",
      "|Heikkinen, Miss. ...|\n",
      "|Futrelle, Mrs. Ja...|\n",
      "|Allen, Mr. Willia...|\n",
      "|    Moran, Mr. James|\n",
      "|McCarthy, Mr. Tim...|\n",
      "|Palsson, Master. ...|\n",
      "|Johnson, Mrs. Osc...|\n",
      "|Nasser, Mrs. Nich...|\n",
      "|Sandstrom, Miss. ...|\n",
      "|Bonnell, Miss. El...|\n",
      "|Saundercock, Mr. ...|\n",
      "|Andersson, Mr. An...|\n",
      "|Vestrom, Miss. Hu...|\n",
      "|Hewlett, Mrs. (Ma...|\n",
      "|Rice, Master. Eugene|\n",
      "|Williams, Mr. Cha...|\n",
      "|Vander Planke, Mr...|\n",
      "|Masselmani, Mrs. ...|\n",
      "+--------------------+\n",
      "only showing top 20 rows\n",
      "\n"
     ]
    }
   ],
   "source": [
    "# displays the first 20 rows of the given DataFrame\n",
    "\n",
    "passengers.show()"
   ]
  },
  {
   "cell_type": "code",
   "execution_count": 16,
   "id": "1f66cef9",
   "metadata": {},
   "outputs": [
    {
     "name": "stdout",
     "output_type": "stream",
     "text": [
      "+--------------------+\n",
      "|                Name|\n",
      "+--------------------+\n",
      "|Braund, Mr. Owen ...|\n",
      "|Cumings, Mrs. Joh...|\n",
      "|Heikkinen, Miss. ...|\n",
      "+--------------------+\n",
      "only showing top 3 rows\n",
      "\n"
     ]
    }
   ],
   "source": [
    "# show limited rows\n",
    "\n",
    "passengers.show(3)"
   ]
  },
  {
   "cell_type": "markdown",
   "id": "d7a7bf3f",
   "metadata": {},
   "source": [
    "### FILTER - Transformation"
   ]
  },
  {
   "cell_type": "code",
   "execution_count": 17,
   "id": "7381f8c5",
   "metadata": {},
   "outputs": [],
   "source": [
    "# filters the dataframe on give condition for which the condition returns TRUE\n",
    "\n",
    "survived_people = titanic.filter(titanic.Survived == 1)"
   ]
  },
  {
   "cell_type": "code",
   "execution_count": 18,
   "id": "c7088080",
   "metadata": {},
   "outputs": [
    {
     "name": "stdout",
     "output_type": "stream",
     "text": [
      "+-----------+--------+------+--------------------+------+----+-----+-----+----------------+--------+-----+--------+\n",
      "|PassengerId|Survived|Pclass|                Name|   Sex| Age|SibSp|Parch|          Ticket|    Fare|Cabin|Embarked|\n",
      "+-----------+--------+------+--------------------+------+----+-----+-----+----------------+--------+-----+--------+\n",
      "|          2|       1|     1|Cumings, Mrs. Joh...|female|38.0|    1|    0|        PC 17599| 71.2833|  C85|       C|\n",
      "|          3|       1|     3|Heikkinen, Miss. ...|female|26.0|    0|    0|STON/O2. 3101282|   7.925| NULL|       S|\n",
      "|          4|       1|     1|Futrelle, Mrs. Ja...|female|35.0|    1|    0|          113803|    53.1| C123|       S|\n",
      "|          9|       1|     3|Johnson, Mrs. Osc...|female|27.0|    0|    2|          347742| 11.1333| NULL|       S|\n",
      "|         10|       1|     2|Nasser, Mrs. Nich...|female|14.0|    1|    0|          237736| 30.0708| NULL|       C|\n",
      "|         11|       1|     3|Sandstrom, Miss. ...|female| 4.0|    1|    1|         PP 9549|    16.7|   G6|       S|\n",
      "|         12|       1|     1|Bonnell, Miss. El...|female|58.0|    0|    0|          113783|   26.55| C103|       S|\n",
      "|         16|       1|     2|Hewlett, Mrs. (Ma...|female|55.0|    0|    0|          248706|    16.0| NULL|       S|\n",
      "|         18|       1|     2|Williams, Mr. Cha...|  male|NULL|    0|    0|          244373|    13.0| NULL|       S|\n",
      "|         20|       1|     3|Masselmani, Mrs. ...|female|NULL|    0|    0|            2649|   7.225| NULL|       C|\n",
      "|         22|       1|     2|Beesley, Mr. Lawr...|  male|34.0|    0|    0|          248698|    13.0|  D56|       S|\n",
      "|         23|       1|     3|\"McGowan, Miss. A...|female|15.0|    0|    0|          330923|  8.0292| NULL|       Q|\n",
      "|         24|       1|     1|Sloper, Mr. Willi...|  male|28.0|    0|    0|          113788|    35.5|   A6|       S|\n",
      "|         26|       1|     3|Asplund, Mrs. Car...|female|38.0|    1|    5|          347077| 31.3875| NULL|       S|\n",
      "|         29|       1|     3|\"O'Dwyer, Miss. E...|female|NULL|    0|    0|          330959|  7.8792| NULL|       Q|\n",
      "|         32|       1|     1|Spencer, Mrs. Wil...|female|NULL|    1|    0|        PC 17569|146.5208|  B78|       C|\n",
      "|         33|       1|     3|Glynn, Miss. Mary...|female|NULL|    0|    0|          335677|    7.75| NULL|       Q|\n",
      "|         37|       1|     3|    Mamee, Mr. Hanna|  male|NULL|    0|    0|            2677|  7.2292| NULL|       C|\n",
      "|         40|       1|     3|Nicola-Yarred, Mi...|female|14.0|    1|    0|            2651| 11.2417| NULL|       C|\n",
      "|         44|       1|     2|Laroche, Miss. Si...|female| 3.0|    1|    2|   SC/Paris 2123| 41.5792| NULL|       C|\n",
      "+-----------+--------+------+--------------------+------+----+-----+-----+----------------+--------+-----+--------+\n",
      "only showing top 20 rows\n",
      "\n"
     ]
    }
   ],
   "source": [
    "survived_people.show()"
   ]
  },
  {
   "cell_type": "markdown",
   "id": "78d65304",
   "metadata": {},
   "source": [
    "### GROUPBY - Transformation"
   ]
  },
  {
   "cell_type": "code",
   "execution_count": 19,
   "id": "ba7d123b",
   "metadata": {},
   "outputs": [],
   "source": [
    "# groups data on the given condition\n",
    "\n",
    "survived_nonsurvived = titanic.groupby('Survived')"
   ]
  },
  {
   "cell_type": "code",
   "execution_count": 20,
   "id": "d714e406",
   "metadata": {},
   "outputs": [
    {
     "data": {
      "text/plain": [
       "pyspark.sql.group.GroupedData"
      ]
     },
     "execution_count": 20,
     "metadata": {},
     "output_type": "execute_result"
    }
   ],
   "source": [
    "# returns GroupedData object and not DataFrame Object \n",
    "\n",
    "type(survived_nonsurvived)"
   ]
  },
  {
   "cell_type": "markdown",
   "id": "1ece9242",
   "metadata": {},
   "source": [
    "### COUNT - Transformation"
   ]
  },
  {
   "cell_type": "code",
   "execution_count": 21,
   "id": "d98ed1bc",
   "metadata": {},
   "outputs": [
    {
     "name": "stdout",
     "output_type": "stream",
     "text": [
      "+--------+-----+\n",
      "|Survived|count|\n",
      "+--------+-----+\n",
      "|       1|  342|\n",
      "|       0|  549|\n",
      "+--------+-----+\n",
      "\n"
     ]
    }
   ],
   "source": [
    "# returns the count of the values in the DataFrame\n",
    "\n",
    "survived_nonsurvived.count().show()"
   ]
  },
  {
   "cell_type": "markdown",
   "id": "6e85297c",
   "metadata": {},
   "source": [
    "### ORDER BY - Transformation"
   ]
  },
  {
   "cell_type": "code",
   "execution_count": 22,
   "id": "8b032223",
   "metadata": {},
   "outputs": [],
   "source": [
    "# sorts the df on alphabetically on the basis of given condition/column\n",
    "\n",
    "sorted_names = titanic.orderBy('Name')"
   ]
  },
  {
   "cell_type": "code",
   "execution_count": 23,
   "id": "299b81d0",
   "metadata": {},
   "outputs": [
    {
     "name": "stdout",
     "output_type": "stream",
     "text": [
      "+-----------+--------+------+--------------------+------+----+-----+-----+------+------+-----+--------+\n",
      "|PassengerId|Survived|Pclass|                Name|   Sex| Age|SibSp|Parch|Ticket|  Fare|Cabin|Embarked|\n",
      "+-----------+--------+------+--------------------+------+----+-----+-----+------+------+-----+--------+\n",
      "|        147|       1|     3|\"Andersson, Mr. A...|  male|27.0|    0|    0|350043|7.7958| NULL|       S|\n",
      "|        519|       1|     2|\"Angle, Mrs. Will...|female|36.0|    1|    0|226875|  26.0| NULL|       S|\n",
      "|        291|       1|     1|\"Barber, Miss. El...|female|26.0|    0|    0| 19877| 78.85| NULL|       S|\n",
      "|        625|       0|     3|\"Bowen, Mr. David...|  male|21.0|    0|    0| 54636|  16.1| NULL|       S|\n",
      "|        508|       1|     1|\"Bradley, Mr. Geo...|  male|NULL|    0|    0|111427| 26.55| NULL|       S|\n",
      "+-----------+--------+------+--------------------+------+----+-----+-----+------+------+-----+--------+\n",
      "only showing top 5 rows\n",
      "\n"
     ]
    }
   ],
   "source": [
    "sorted_names.show(5)"
   ]
  },
  {
   "cell_type": "markdown",
   "id": "47daa233",
   "metadata": {},
   "source": [
    "### DROPDUPLICATES - Transformation"
   ]
  },
  {
   "cell_type": "code",
   "execution_count": 24,
   "id": "2a5b7ff0",
   "metadata": {},
   "outputs": [],
   "source": [
    "# removes duplicate records from the DataFrame\n",
    "\n",
    "new_titanic = titanic.select('Name','Age','Survived').dropDuplicates()"
   ]
  },
  {
   "cell_type": "code",
   "execution_count": 25,
   "id": "ce5412d7",
   "metadata": {},
   "outputs": [
    {
     "name": "stdout",
     "output_type": "stream",
     "text": [
      "+--------------------+----+--------+\n",
      "|                Name| Age|Survived|\n",
      "+--------------------+----+--------+\n",
      "|  Giglio, Mr. Victor|24.0|       0|\n",
      "|Goodwin, Master. ...| 1.0|       0|\n",
      "|Goldsmith, Mr. Fr...|33.0|       0|\n",
      "+--------------------+----+--------+\n",
      "only showing top 3 rows\n",
      "\n"
     ]
    }
   ],
   "source": [
    "new_titanic.show(3)"
   ]
  },
  {
   "cell_type": "markdown",
   "id": "a411f8a7",
   "metadata": {},
   "source": [
    "### withColumnRenamed - Transformation"
   ]
  },
  {
   "cell_type": "code",
   "execution_count": 26,
   "id": "6ef5ff43",
   "metadata": {},
   "outputs": [],
   "source": [
    "# used to rename the column of the DataFrame \n",
    "\n",
    "new_titanic = new_titanic.withColumnRenamed('Name', 'Passenger Name')"
   ]
  },
  {
   "cell_type": "code",
   "execution_count": 27,
   "id": "1a17a6f0",
   "metadata": {},
   "outputs": [
    {
     "name": "stdout",
     "output_type": "stream",
     "text": [
      "+--------------------+----+--------+\n",
      "|      Passenger Name| Age|Survived|\n",
      "+--------------------+----+--------+\n",
      "|  Giglio, Mr. Victor|24.0|       0|\n",
      "|Goodwin, Master. ...| 1.0|       0|\n",
      "|Goldsmith, Mr. Fr...|33.0|       0|\n",
      "+--------------------+----+--------+\n",
      "only showing top 3 rows\n",
      "\n"
     ]
    }
   ],
   "source": [
    "new_titanic.show(3)"
   ]
  },
  {
   "cell_type": "markdown",
   "id": "c0af2fe6",
   "metadata": {},
   "source": [
    "### PRINTSCHEMA - Action"
   ]
  },
  {
   "cell_type": "code",
   "execution_count": 28,
   "id": "b0662d7f",
   "metadata": {},
   "outputs": [
    {
     "name": "stdout",
     "output_type": "stream",
     "text": [
      "root\n",
      " |-- PassengerId: integer (nullable = true)\n",
      " |-- Survived: integer (nullable = true)\n",
      " |-- Pclass: integer (nullable = true)\n",
      " |-- Name: string (nullable = true)\n",
      " |-- Sex: string (nullable = true)\n",
      " |-- Age: double (nullable = true)\n",
      " |-- SibSp: integer (nullable = true)\n",
      " |-- Parch: integer (nullable = true)\n",
      " |-- Ticket: string (nullable = true)\n",
      " |-- Fare: double (nullable = true)\n",
      " |-- Cabin: string (nullable = true)\n",
      " |-- Embarked: string (nullable = true)\n",
      "\n"
     ]
    }
   ],
   "source": [
    "# returns the types of columns in DataFrame\n",
    "\n",
    "titanic.printSchema()"
   ]
  },
  {
   "cell_type": "markdown",
   "id": "2610c2f8",
   "metadata": {},
   "source": [
    "### COLUMNS - Action"
   ]
  },
  {
   "cell_type": "code",
   "execution_count": 29,
   "id": "4d59346d",
   "metadata": {},
   "outputs": [
    {
     "data": {
      "text/plain": [
       "['PassengerId',\n",
       " 'Survived',\n",
       " 'Pclass',\n",
       " 'Name',\n",
       " 'Sex',\n",
       " 'Age',\n",
       " 'SibSp',\n",
       " 'Parch',\n",
       " 'Ticket',\n",
       " 'Fare',\n",
       " 'Cabin',\n",
       " 'Embarked']"
      ]
     },
     "execution_count": 29,
     "metadata": {},
     "output_type": "execute_result"
    }
   ],
   "source": [
    "# returns names of all columns in the DataFrame\n",
    "\n",
    "titanic.columns"
   ]
  },
  {
   "cell_type": "markdown",
   "id": "a99a2e19",
   "metadata": {},
   "source": [
    "### DESCRIBE - Transformation"
   ]
  },
  {
   "cell_type": "code",
   "execution_count": 41,
   "id": "429190b2",
   "metadata": {},
   "outputs": [
    {
     "name": "stdout",
     "output_type": "stream",
     "text": [
      "+-------+-----------------+-------------------+------------------+--------------------+------+------------------+------------------+-------------------+------------------+-----------------+-----+--------+\n",
      "|summary|      PassengerId|           Survived|            Pclass|                Name|   Sex|               Age|             SibSp|              Parch|            Ticket|             Fare|Cabin|Embarked|\n",
      "+-------+-----------------+-------------------+------------------+--------------------+------+------------------+------------------+-------------------+------------------+-----------------+-----+--------+\n",
      "|  count|              891|                891|               891|                 891|   891|               714|               891|                891|               891|              891|  204|     889|\n",
      "|   mean|            446.0| 0.3838383838383838| 2.308641975308642|                NULL|  NULL| 29.69911764705882|0.5230078563411896|0.38159371492704824|260318.54916792738| 32.2042079685746| NULL|    NULL|\n",
      "| stddev|257.3538420152301|0.48659245426485753|0.8360712409770491|                NULL|  NULL|14.526497332334035|1.1027434322934315| 0.8060572211299488|471609.26868834975|49.69342859718089| NULL|    NULL|\n",
      "|    min|                1|                  0|                 1|\"Andersson, Mr. A...|female|              0.42|                 0|                  0|            110152|              0.0|  A10|       C|\n",
      "|    max|              891|                  1|                 3|van Melkebeke, Mr...|  male|              80.0|                 8|                  6|         WE/P 5735|         512.3292|    T|       S|\n",
      "+-------+-----------------+-------------------+------------------+--------------------+------+------------------+------------------+-------------------+------------------+-----------------+-----+--------+\n",
      "\n"
     ]
    }
   ],
   "source": [
    "# show numerical statistics of DataFrame\n",
    "\n",
    "titanic.describe().show()"
   ]
  },
  {
   "cell_type": "code",
   "execution_count": null,
   "id": "06cbbb89",
   "metadata": {
    "scrolled": true
   },
   "outputs": [],
   "source": []
  },
  {
   "cell_type": "markdown",
   "id": "0b61b78a",
   "metadata": {},
   "source": [
    "## USING DATAFRAME TO RUN SQL QUERIES"
   ]
  },
  {
   "cell_type": "markdown",
   "id": "e55972c3",
   "metadata": {},
   "source": [
    "### CREATE OR REPLACE TEMP VIEW"
   ]
  },
  {
   "cell_type": "code",
   "execution_count": 66,
   "id": "b8cecfad",
   "metadata": {},
   "outputs": [],
   "source": [
    "# creates a sql table from the dataframe\n",
    "\n",
    "titanic.createOrReplaceTempView(\"titanic_table\")"
   ]
  },
  {
   "cell_type": "code",
   "execution_count": 69,
   "id": "25a84bbb",
   "metadata": {},
   "outputs": [],
   "source": [
    "# running sql query using spark.sql \n",
    "# it is a transformation \n",
    "\n",
    "titanic_sql = spark.sql(\"Select Name, Sex, Age from titanic_table where Survived = 1 \")"
   ]
  },
  {
   "cell_type": "markdown",
   "id": "ebf65b39",
   "metadata": {},
   "source": [
    "### Output by SHOW(DataFraame Action) and TAKE(RDD Action)\n",
    "show - Dataframe\n",
    "take - rdd array of rows"
   ]
  },
  {
   "cell_type": "code",
   "execution_count": 73,
   "id": "1205debf",
   "metadata": {
    "scrolled": true
   },
   "outputs": [
    {
     "name": "stdout",
     "output_type": "stream",
     "text": [
      "+--------------------+------+----+\n",
      "|                Name|   Sex| Age|\n",
      "+--------------------+------+----+\n",
      "|Cumings, Mrs. Joh...|female|38.0|\n",
      "|Heikkinen, Miss. ...|female|26.0|\n",
      "|Futrelle, Mrs. Ja...|female|35.0|\n",
      "+--------------------+------+----+\n",
      "only showing top 3 rows\n",
      "\n"
     ]
    }
   ],
   "source": [
    "titanic_sql.show(3)"
   ]
  },
  {
   "cell_type": "code",
   "execution_count": 74,
   "id": "97c08d2a",
   "metadata": {},
   "outputs": [
    {
     "data": {
      "text/plain": [
       "[Row(Name='Cumings, Mrs. John Bradley (Florence Briggs Thayer)', Sex='female', Age=38.0),\n",
       " Row(Name='Heikkinen, Miss. Laina', Sex='female', Age=26.0),\n",
       " Row(Name='Futrelle, Mrs. Jacques Heath (Lily May Peel)', Sex='female', Age=35.0)]"
      ]
     },
     "execution_count": 74,
     "metadata": {},
     "output_type": "execute_result"
    }
   ],
   "source": [
    "titanic_sql.take(3)"
   ]
  },
  {
   "cell_type": "markdown",
   "id": "98942c84",
   "metadata": {},
   "source": [
    "#### Another way to run same query"
   ]
  },
  {
   "cell_type": "code",
   "execution_count": 53,
   "id": "2d7e4325",
   "metadata": {},
   "outputs": [],
   "source": [
    "query = '''Select Name, Sex, Age from titanic_table where Survived = 1'''"
   ]
  },
  {
   "cell_type": "code",
   "execution_count": 65,
   "id": "edeb3ffa",
   "metadata": {},
   "outputs": [
    {
     "name": "stdout",
     "output_type": "stream",
     "text": [
      "+--------------------+----+\n",
      "|                Name| Age|\n",
      "+--------------------+----+\n",
      "|McCarthy, Mr. Tim...|54.0|\n",
      "|Wheadon, Mr. Edwa...|66.0|\n",
      "|Ostby, Mr. Engelh...|65.0|\n",
      "+--------------------+----+\n",
      "only showing top 3 rows\n",
      "\n"
     ]
    }
   ],
   "source": [
    "titanic_sql = spark.sql(query)\n",
    "titanic_sql.show(3)"
   ]
  },
  {
   "cell_type": "markdown",
   "id": "ed81abe8",
   "metadata": {},
   "source": [
    "### Another Query"
   ]
  },
  {
   "cell_type": "code",
   "execution_count": 59,
   "id": "af04a6f3",
   "metadata": {},
   "outputs": [],
   "source": [
    "query = '''Select Age, count(Name) as Passengers from titanic_table group by Age'''"
   ]
  },
  {
   "cell_type": "code",
   "execution_count": 60,
   "id": "8ae76396",
   "metadata": {},
   "outputs": [
    {
     "name": "stdout",
     "output_type": "stream",
     "text": [
      "+----+----------+\n",
      "| Age|Passengers|\n",
      "+----+----------+\n",
      "| 8.0|         4|\n",
      "|70.0|         2|\n",
      "| 7.0|         3|\n",
      "|20.5|         1|\n",
      "|49.0|         6|\n",
      "+----+----------+\n",
      "only showing top 5 rows\n",
      "\n"
     ]
    }
   ],
   "source": [
    "titanic_sql = spark.sql(query)\n",
    "titanic_sql.show(5)"
   ]
  },
  {
   "cell_type": "markdown",
   "id": "af4f7de4",
   "metadata": {},
   "source": [
    "### Another Query"
   ]
  },
  {
   "cell_type": "code",
   "execution_count": 61,
   "id": "7ed9e1af",
   "metadata": {},
   "outputs": [],
   "source": [
    "query = '''Select Name, Age from titanic_table where Age > 50 and Sex = \"male\" '''"
   ]
  },
  {
   "cell_type": "code",
   "execution_count": 64,
   "id": "13f2653c",
   "metadata": {},
   "outputs": [
    {
     "data": {
      "text/plain": [
       "[Row(Name='McCarthy, Mr. Timothy J', Age=54.0),\n",
       " Row(Name='Wheadon, Mr. Edward H', Age=66.0),\n",
       " Row(Name='Ostby, Mr. Engelhart Cornelius', Age=65.0),\n",
       " Row(Name='Coxon, Mr. Daniel', Age=59.0),\n",
       " Row(Name='Goldschmidt, Mr. George B', Age=71.0),\n",
       " Row(Name='Connors, Mr. Patrick', Age=70.5),\n",
       " Row(Name='White, Mr. Percival Wayland', Age=54.0),\n",
       " Row(Name='Bateman, Rev. Robert James', Age=51.0),\n",
       " Row(Name='Meo, Mr. Alfonzo', Age=55.5),\n",
       " Row(Name='Williams, Mr. Charles Duane', Age=51.0),\n",
       " Row(Name='Van der hoef, Mr. Wyckoff', Age=61.0),\n",
       " Row(Name='Smith, Mr. James Clinch', Age=56.0),\n",
       " Row(Name='Green, Mr. George Henry', Age=51.0),\n",
       " Row(Name='Sjostedt, Mr. Ernst Adolf', Age=59.0),\n",
       " Row(Name='Carter, Rev. Ernest Courtenay', Age=54.0),\n",
       " Row(Name='Stead, Mr. William Thomas', Age=62.0),\n",
       " Row(Name='Taussig, Mr. Emil', Age=52.0),\n",
       " Row(Name='Duane, Mr. Frank', Age=65.0),\n",
       " Row(Name='Moraweck, Dr. Ernest', Age=54.0),\n",
       " Row(Name='Nysveen, Mr. Johan Hansen', Age=61.0),\n",
       " Row(Name='Widegren, Mr. Carl/Charles Peter', Age=51.0),\n",
       " Row(Name='Fortune, Mr. Mark', Age=64.0),\n",
       " Row(Name='Peuchen, Major. Arthur Godfrey', Age=52.0),\n",
       " Row(Name='Millet, Mr. Francis Davis', Age=65.0),\n",
       " Row(Name='Smart, Mr. John Montgomery', Age=56.0),\n",
       " Row(Name='Kent, Mr. Edward Austin', Age=58.0),\n",
       " Row(Name='Molson, Mr. Harry Markland', Age=55.0),\n",
       " Row(Name='Artagaveytia, Mr. Ramon', Age=71.0),\n",
       " Row(Name='Nicholson, Mr. Arthur Ernest', Age=64.0),\n",
       " Row(Name='Wright, Mr. George', Age=62.0),\n",
       " Row(Name='Harris, Mr. George', Age=62.0),\n",
       " Row(Name='Downton, Mr. William James', Age=54.0),\n",
       " Row(Name='Frolicher-Stehli, Mr. Maxmillian', Age=60.0),\n",
       " Row(Name='Sutton, Mr. Frederick', Age=61.0),\n",
       " Row(Name='Kirkland, Rev. Charles Leonard', Age=57.0),\n",
       " Row(Name='Barkworth, Mr. Algernon Henry Wilson', Age=80.0),\n",
       " Row(Name='Lundahl, Mr. Johan Svensson', Age=51.0),\n",
       " Row(Name='Simonius-Blumer, Col. Oberst Alfons', Age=56.0),\n",
       " Row(Name='Newell, Mr. Arthur Webster', Age=58.0),\n",
       " Row(Name='Mitchell, Mr. Henry Michael', Age=70.0),\n",
       " Row(Name='Brown, Mr. Thomas William Solomon', Age=60.0),\n",
       " Row(Name='Weir, Col. John', Age=60.0),\n",
       " Row(Name='Chapman, Mr. Charles Henry', Age=52.0),\n",
       " Row(Name='Greenberg, Mr. Samuel', Age=52.0),\n",
       " Row(Name='Crosby, Capt. Edward Gifford', Age=70.0),\n",
       " Row(Name='Svensson, Mr. Johan', Age=74.0),\n",
       " Row(Name='Daly, Mr. Peter Denis ', Age=51.0)]"
      ]
     },
     "execution_count": 64,
     "metadata": {},
     "output_type": "execute_result"
    }
   ],
   "source": [
    "titanic_sql = spark.sql(query)\n",
    "titanic_sql.collect()"
   ]
  },
  {
   "cell_type": "code",
   "execution_count": null,
   "id": "3cb87f0a",
   "metadata": {},
   "outputs": [],
   "source": []
  }
 ],
 "metadata": {
  "kernelspec": {
   "display_name": "Python 3 (ipykernel)",
   "language": "python",
   "name": "python3"
  },
  "language_info": {
   "codemirror_mode": {
    "name": "ipython",
    "version": 3
   },
   "file_extension": ".py",
   "mimetype": "text/x-python",
   "name": "python",
   "nbconvert_exporter": "python",
   "pygments_lexer": "ipython3",
   "version": "3.11.5"
  }
 },
 "nbformat": 4,
 "nbformat_minor": 5
}
